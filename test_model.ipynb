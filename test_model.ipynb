{
 "cells": [
  {
   "cell_type": "markdown",
   "metadata": {},
   "source": [
    "# Testeo del modelo"
   ]
  },
  {
   "cell_type": "markdown",
   "metadata": {},
   "source": [
    "Declaracion de librerias"
   ]
  },
  {
   "cell_type": "code",
   "execution_count": 3,
   "metadata": {},
   "outputs": [],
   "source": [
    "# aceleracion de hardware en GPUs AMD\n",
    "# import plaidml.keras\n",
    "# plaidml.keras.install_backend()\n",
    "\n",
    "import numpy as np\n",
    "import argparse\n",
    "import imutils\n",
    "import os\n",
    "import cv2\n",
    "import sys\n",
    "import string\n",
    "\n",
    "from os import listdir\n",
    "from os.path import splitext\n",
    "from keras.preprocessing.image import img_to_array\n",
    "from sklearn.preprocessing import normalize\n",
    "from sklearn.metrics import confusion_matrix\n",
    "from keras.models import load_model\n",
    "from difflib import SequenceMatcher\n",
    "\n",
    "import matplotlib.pyplot as plt\n"
   ]
  },
  {
   "cell_type": "markdown",
   "metadata": {},
   "source": [
    "Definicion de funciones y realizacion de testeo"
   ]
  },
  {
   "cell_type": "code",
   "execution_count": 5,
   "metadata": {},
   "outputs": [
    {
     "name": "stdout",
     "output_type": "stream",
     "text": [
      "Cargando modelo...\n",
      "Cargando dataset...\n",
      "Cargando datos del caracter '0'\n",
      "Cargando datos del caracter '1'\n",
      "Cargando datos del caracter '2'\n",
      "Cargando datos del caracter '3'\n",
      "Cargando datos del caracter '4'\n",
      "Cargando datos del caracter '5'\n",
      "Cargando datos del caracter '6'\n",
      "Cargando datos del caracter '7'\n",
      "Cargando datos del caracter '8'\n",
      "Cargando datos del caracter '9'\n",
      "Cargando datos del caracter 'A'\n",
      "Cargando datos del caracter 'B'\n",
      "Cargando datos del caracter 'C'\n",
      "Cargando datos del caracter 'D'\n",
      "Cargando datos del caracter 'E'\n",
      "Cargando datos del caracter 'F'\n",
      "Cargando datos del caracter 'G'\n",
      "Cargando datos del caracter 'H'\n",
      "Cargando datos del caracter 'I'\n",
      "Cargando datos del caracter 'J'\n",
      "Cargando datos del caracter 'K'\n",
      "Cargando datos del caracter 'L'\n",
      "Cargando datos del caracter 'M'\n",
      "Cargando datos del caracter 'N'\n",
      "Cargando datos del caracter 'O'\n",
      "Cargando datos del caracter 'P'\n",
      "Cargando datos del caracter 'Q'\n",
      "Cargando datos del caracter 'R'\n",
      "Cargando datos del caracter 'S'\n",
      "Cargando datos del caracter 'T'\n",
      "Cargando datos del caracter 'U'\n",
      "Cargando datos del caracter 'V'\n",
      "Cargando datos del caracter 'W'\n",
      "Cargando datos del caracter 'X'\n",
      "Cargando datos del caracter 'Y'\n",
      "Cargando datos del caracter 'Z'\n",
      "Efectuando tests...\n",
      "Tests terminados\n",
      "Tasa de acierto: 0.9464814814814815%\n"
     ]
    }
   ],
   "source": [
    "#declaracion alfabeto\n",
    "alphabet = string.digits + string.ascii_letters\n",
    "#Declaracion del alfabeto reconozible por el programa\n",
    "recognizer_alphabet = ''.join(sorted(set(alphabet.upper())))\n",
    "\n",
    "def decode(array):\n",
    "    index = np.argmax(array)\n",
    "    return recognizer_alphabet[index]\n",
    "\n",
    "def load_dataset(num):\n",
    "    # Ruta de los datos\n",
    "    seg_path = \"../dataset/data_test/clasification/\"\n",
    "\n",
    "    data = []\n",
    "    labels = []\n",
    "\n",
    "    for char in recognizer_alphabet:\n",
    "        print(f\"Cargando datos del caracter '{char}'\")\n",
    "\n",
    "        #actualizacion de rutas\n",
    "        path = seg_path + char + \"/\"\n",
    "        files = os.listdir(path)\n",
    "\n",
    "        for file in files[:num]:\n",
    "            #obtencion de la imagen y reescalado\n",
    "            image = cv2.imread(path + file)\n",
    "            resized = cv2.resize(image, (30, 30))\n",
    "\n",
    "            #etiqueta one-hot\n",
    "            label = char\n",
    "            \n",
    "            #guardando datos\n",
    "            data.append(resized)\n",
    "            labels.append(label)\n",
    "    return data, labels\n",
    "\n",
    "if __name__ == \"__main__\":\n",
    "    print(\"Cargando modelo...\")\n",
    "    model = load_model('../models/model-md[1e-06]-pt[10]/model.hdf5')\n",
    "    #num representa el numero de muestras que recolectara de cada caracter\n",
    "    #es decir en total estaran en memoria num*36 datos\n",
    "    num= 150\n",
    "    print(\"Cargando dataset...\")\n",
    "    data, labels = load_dataset(num)\n",
    "\n",
    "    y_true = []\n",
    "    y_pred = []\n",
    "\n",
    "    right = 0\n",
    "    total = 0\n",
    "\n",
    "    print(\"Efectuando tests...\")\n",
    "    for i in range(len(data)):\n",
    "        sample = data[i]\n",
    "        label = labels[i]\n",
    "\n",
    "        sample = sample.astype(\"float32\") / 255.0\n",
    "        sample = np.expand_dims(sample, axis=0)\n",
    "\n",
    "        #prediccion y decodificacion del resultado\n",
    "        out = model.predict(sample)\n",
    "        decoded = decode(out)\n",
    "\n",
    "        #comparacion de respuestas\n",
    "        if label == decoded:\n",
    "            right += 1\n",
    "        total += 1\n",
    "\n",
    "        y_true += label\n",
    "        y_pred += decoded\n",
    "\n",
    "    print(\"Tests terminados\")\n",
    "    print(f\"Tasa de acierto: {right/total}%\")"
   ]
  },
  {
   "cell_type": "code",
   "execution_count": null,
   "metadata": {},
   "outputs": [],
   "source": []
  },
  {
   "cell_type": "code",
   "execution_count": null,
   "metadata": {},
   "outputs": [],
   "source": []
  }
 ],
 "metadata": {
  "kernelspec": {
   "display_name": "Python 3",
   "language": "python",
   "name": "python3"
  },
  "language_info": {
   "codemirror_mode": {
    "name": "ipython",
    "version": 3
   },
   "file_extension": ".py",
   "mimetype": "text/x-python",
   "name": "python",
   "nbconvert_exporter": "python",
   "pygments_lexer": "ipython3",
   "version": "3.7.9"
  }
 },
 "nbformat": 4,
 "nbformat_minor": 4
}
